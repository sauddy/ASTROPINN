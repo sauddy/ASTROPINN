{
 "cells": [
  {
   "cell_type": "markdown",
   "id": "426ce0fb-2938-4ecf-8d4e-a07fa3a9517a",
   "metadata": {
    "tags": []
   },
   "source": [
    "## Solving 1D Poisson Eqn with Periodic Boundary Conditions using PINNs\n",
    "\n",
    "@author:  Sayantan \n",
    "\n",
    "Date :  27 March 2023\n",
    "\n",
    "\n"
   ]
  },
  {
   "cell_type": "code",
   "execution_count": 8,
   "id": "41648d3a",
   "metadata": {},
   "outputs": [],
   "source": [
    "\"\"\"Backend supported: tensorflow.compat.v1, tensorflow, pytorch\"\"\"\n",
    "import deepxde as dde\n",
    "import numpy as np\n",
    "\n",
    "# Import TensorFlow and NumPy\n",
    "import tensorflow as tf\n",
    "import numpy as np\n",
    "from tensorflow.keras.layers import Input, Concatenate, Flatten, Dense, Conv2D, MaxPool2D, Dropout, BatchNormalization, Lambda\n",
    "import matplotlib.pyplot as plt\n",
    "\n",
    "np.random.seed(1234)\n",
    "tf.random.set_seed(1234)"
   ]
  },
  {
   "cell_type": "markdown",
   "id": "b315ee9d",
   "metadata": {
    "tags": []
   },
   "source": [
    "## The poisson's equation\n",
    "\n",
    "$$\n",
    "\\begin{equation}\n",
    "\\nabla^2 \\phi =  4 \\pi G \\rho\n",
    "\\end{equation} \\tag{7}\n",
    "$$\n",
    "or rewriting interm of the field\n",
    "\n",
    "\n",
    "\\begin{equation}\n",
    "\\nabla \\phi =  - \\vec g \n",
    "% \\nabla . \\vec g = -4\\pi G\\rho\n",
    "\\end{equation}\n",
    "\n",
    "$$\n",
    "\\begin{equation}\n",
    "\\nabla . \\vec g = -4\\pi G\\rho\n",
    "\\end{equation}\n",
    "$$\n",
    "\n",
    "The density is \n",
    "\n",
    "$$\n",
    "\\begin{equation}\n",
    "\\rho = \\rho_1 \\cos(2\\pi x/\\lambda)\n",
    "\\end{equation}\n",
    "$$\n",
    "\n",
    "With periodic boundary conditions\n",
    "\n",
    "$$\n",
    "\\begin{equation}\n",
    "\\phi(x=x_{min}) = \\phi(x=x_{max})\n",
    "\\end{equation}\n",
    "$$\n",
    "\n",
    "$$\n",
    "\\begin{equation}\n",
    "\\partial_x \\phi(x=x_{min}) =\\partial_ \\phi(x=x_{max})\n",
    "\\end{equation}\n",
    "$$"
   ]
  },
  {
   "cell_type": "code",
   "execution_count": 2,
   "id": "363ff935",
   "metadata": {},
   "outputs": [],
   "source": [
    "## We test the solution of the POISSON's EQN \n",
    "#Set data type\n",
    "DTYPE='float32'\n",
    "tf.keras.backend.set_floatx(DTYPE)\n",
    "#%matplotlib inline\n",
    "\n",
    "lam = 1.0          # one wavelength\n",
    "const = 1 ## we set 4 pi G  tp 1\n",
    "num_of_waves = 2\n",
    "\n",
    "rho_1 = 0.03;       # question 2b non-linear wave propagation\n",
    "rho_o = 1          # zeroth order density\n",
    "def pdeTest(x, y):\n",
    "    dy_xx = dde.grad.hessian(y, x)    \n",
    "    return dy_xx - const*(rho_1 * tf.cos(2*np.pi*x/lam))\n"
   ]
  },
  {
   "cell_type": "code",
   "execution_count": 3,
   "id": "b3e00eec",
   "metadata": {},
   "outputs": [
    {
     "name": "stdout",
     "output_type": "stream",
     "text": [
      "Compiling model...\n",
      "Building feed-forward neural network...\n",
      "'build' took 0.171412 s\n",
      "\n"
     ]
    },
    {
     "name": "stderr",
     "output_type": "stream",
     "text": [
      "/home/sauddy3/PINNS-envcedar/lib/python3.10/site-packages/deepxde/nn/tensorflow_compat_v1/fnn.py:114: UserWarning: `tf.layers.dense` is deprecated and will be removed in a future version. Please use `tf.keras.layers.Dense` instead.\n",
      "  return tf.layers.dense(\n",
      "2023-03-29 18:34:03.863876: I tensorflow/core/platform/cpu_feature_guard.cc:193] This TensorFlow binary is optimized with oneAPI Deep Neural Network Library (oneDNN) to use the following CPU instructions in performance-critical operations:  AVX2 FMA\n",
      "To enable them in other operations, rebuild TensorFlow with the appropriate compiler flags.\n",
      "2023-03-29 18:34:08.246025: W tensorflow/core/common_runtime/gpu/gpu_bfc_allocator.cc:42] Overriding orig_value setting because the TF_FORCE_GPU_ALLOW_GROWTH environment variable is set. Original config value was 0.\n",
      "2023-03-29 18:34:08.249372: I tensorflow/core/common_runtime/gpu/gpu_device.cc:1613] Created device /job:localhost/replica:0/task:0/device:GPU:0 with 5516 MB memory:  -> device: 0, name: Tesla P100-PCIE-12GB, pci bus id: 0000:03:00.0, compute capability: 6.0\n"
     ]
    },
    {
     "name": "stdout",
     "output_type": "stream",
     "text": [
      "'compile' took 5.675258 s\n",
      "\n",
      "Initializing variables...\n"
     ]
    },
    {
     "name": "stderr",
     "output_type": "stream",
     "text": [
      "2023-03-29 18:34:09.406626: I tensorflow/compiler/mlir/mlir_graph_optimization_pass.cc:357] MLIR V1 optimization pass is not enabled\n"
     ]
    },
    {
     "name": "stdout",
     "output_type": "stream",
     "text": [
      "Training model...\n",
      "\n"
     ]
    },
    {
     "name": "stderr",
     "output_type": "stream",
     "text": [
      "2023-03-29 18:34:10.115331: I tensorflow/compiler/xla/service/service.cc:173] XLA service 0x2ac200009680 initialized for platform CUDA (this does not guarantee that XLA will be used). Devices:\n",
      "2023-03-29 18:34:10.115484: I tensorflow/compiler/xla/service/service.cc:181]   StreamExecutor device (0): Tesla P100-PCIE-12GB, Compute Capability 6.0\n",
      "2023-03-29 18:34:10.330071: I tensorflow/compiler/mlir/tensorflow/utils/dump_mlir_util.cc:268] disabling MLIR crash reproducer, set env var `MLIR_CRASH_REPRODUCER_DIRECTORY` to enable.\n",
      "2023-03-29 18:34:11.257573: I tensorflow/tsl/platform/default/subprocess.cc:304] Start cannot spawn child process: No such file or directory\n",
      "2023-03-29 18:34:13.043809: I tensorflow/compiler/jit/xla_compilation_cache.cc:477] Compiled cluster using XLA!  This line is logged at most once for the lifetime of the process.\n"
     ]
    },
    {
     "name": "stdout",
     "output_type": "stream",
     "text": [
      "Step      Train loss                        Test loss                         Test metric\n",
      "0         [4.51e-03, 2.59e-01, 1.99e-02]    [4.51e-03, 2.59e-01, 1.99e-02]    []  \n"
     ]
    },
    {
     "name": "stderr",
     "output_type": "stream",
     "text": [
      "2023-03-29 18:34:15.776976: I tensorflow/compiler/xla/stream_executor/gpu/asm_compiler.cc:325] ptxas warning : Registers are spilled to local memory in function 'fusion_32'\n",
      "\n"
     ]
    },
    {
     "name": "stdout",
     "output_type": "stream",
     "text": [
      "1000      [3.47e-04, 1.57e-11, 1.07e-06]    [3.47e-04, 1.57e-11, 1.07e-06]    []  \n",
      "2000      [3.41e-04, 2.05e-12, 9.85e-07]    [3.41e-04, 2.05e-12, 9.85e-07]    []  \n",
      "3000      [3.35e-04, 4.23e-12, 9.04e-07]    [3.35e-04, 4.23e-12, 9.04e-07]    []  \n",
      "\n",
      "Best model at step 3000:\n",
      "  train loss: 3.36e-04\n",
      "  test loss: 3.36e-04\n",
      "  test metric: []\n",
      "\n",
      "'train' took 16.812565 s\n",
      "\n",
      "Compiling model...\n",
      "'compile' took 0.464678 s\n",
      "\n",
      "Training model...\n",
      "\n"
     ]
    },
    {
     "name": "stderr",
     "output_type": "stream",
     "text": [
      "2023-03-29 18:34:26.762338: W tensorflow/compiler/jit/mark_for_compilation_pass.cc:1780] (One-time warning): Not using XLA:CPU for cluster.\n",
      "\n",
      "If you want XLA:CPU, do one of the following:\n",
      "\n",
      " - set the TF_XLA_FLAGS to include \"--tf_xla_cpu_global_jit\", or\n",
      " - set cpu_global_jit to true on this session's OptimizerOptions, or\n",
      " - use experimental_jit_scope, or\n",
      " - use tf.function(jit_compile=True).\n",
      "\n",
      "To confirm that XLA is active, pass --vmodule=xla_compilation_cache=1 (as a\n",
      "proper command-line flag, not via TF_XLA_FLAGS).\n"
     ]
    },
    {
     "name": "stdout",
     "output_type": "stream",
     "text": [
      "Step      Train loss                        Test loss                         Test metric\n",
      "3000      [3.35e-04, 4.23e-12, 9.04e-07]    [3.35e-04, 4.23e-12, 9.04e-07]    []  \n",
      "INFO:tensorflow:Optimization terminated with:\n",
      "  Message: CONVERGENCE: REL_REDUCTION_OF_F_<=_FACTR*EPSMCH\n",
      "  Objective function value: 0.000000\n",
      "  Number of iterations: 408\n",
      "  Number of functions evaluations: 521\n",
      "3521      [1.94e-08, 3.55e-15, 5.68e-14]    [1.94e-08, 3.55e-15, 5.68e-14]    []  \n",
      "\n",
      "Best model at step 3521:\n",
      "  train loss: 1.94e-08\n",
      "  test loss: 1.94e-08\n",
      "  test metric: []\n",
      "\n",
      "'train' took 7.253811 s\n",
      "\n",
      "Saving loss history to /scratch/sauddy3/PINNS-2023/PINNS-Poissons/loss.dat ...\n",
      "Saving training data to /scratch/sauddy3/PINNS-2023/PINNS-Poissons/train.dat ...\n",
      "Saving test data to /scratch/sauddy3/PINNS-2023/PINNS-Poissons/test.dat ...\n"
     ]
    },
    {
     "data": {
      "image/png": "[encoded data removed]",
      "text/plain": [
       "<Figure size 432x288 with 1 Axes>"
      ]
     },
     "metadata": {
      "needs_background": "light"
     },
     "output_type": "display_data"
    },
    {
     "data": {
      "image/png": "[encoded data removed]",
      "text/plain": [
       "<Figure size 432x288 with 1 Axes>"
      ]
     },
     "metadata": {
      "needs_background": "light"
     },
     "output_type": "display_data"
    }
   ],
   "source": [
    "## The Geometric Domain \n",
    "xmin = 0\n",
    "xmax = xmin + lam * num_of_waves\n",
    "geom = dde.geometry.Interval(xmin, xmax)\n",
    "# geom = dde.geometry.Interval(-1, 1)\n",
    "\n",
    "\n",
    "## Boundaries\n",
    "\n",
    "## Note in the deep XDE code by default for the periodic boundary u(0) = u(1)\n",
    "## If the problem is periodic this condition will also satisfy u(-1) = u(1)\n",
    "## Thus is most cases the left boundary is not needed. But we have the option here\n",
    "\n",
    "def boundary_l(x, on_boundary):  # boundary x=-1 or x = 0 \n",
    "    if xmin == -1:\n",
    "        is_on_boundary_left = on_boundary and np.isclose(x[0], xmin)\n",
    "    else:\n",
    "        is_on_boundary_left = on_boundary and np.isclose(x[0], 0)\n",
    "    return is_on_boundary_left\n",
    "\n",
    "def boundary_r(x, on_boundary):  # boundary x=1\n",
    "    is_on_boundary_right = on_boundary and np.isclose(x[0], xmax)\n",
    "\n",
    "    return is_on_boundary_right\n",
    "\n",
    "\n",
    "bc_l = dde.icbc.PeriodicBC(geom, 0, boundary_l,derivative_order=0) ## may be used when x = [-1,1] otherwise for x =[0,1] not needed\n",
    "bc_r = dde.icbc.PeriodicBC(geom, 0, boundary_r,derivative_order=0)\n",
    "\n",
    "## 1st order terms\n",
    "\n",
    "bc_ll = dde.icbc.PeriodicBC(geom, 0, boundary_l,derivative_order=1) ##may be used when x = [-1,1]\n",
    "bc_rr = dde.icbc.PeriodicBC(geom, 0, boundary_r,derivative_order=1)\n",
    "\n",
    "data = dde.data.TimePDE(geom,\n",
    "                     pdeTest,\n",
    "#                      [bc_l,bc_r,bc_ll,bc_rr], ## This is needed if one need to force periodicity on the left \n",
    "                     [bc_r,bc_rr],          ## For x =[0,1] and default\n",
    "                     num_domain=10000,\n",
    "                     num_boundary=5000\n",
    "                     #num_initial=5000,\n",
    "                    # num_test=10000,\n",
    "                   )\n",
    "\n",
    "net = dde.nn.FNN([1] + [32] * 3 + [1], \"sin\", \"Glorot normal\")\n",
    "model_test = dde.Model(data, net)\n",
    "\n",
    "model_test.compile(\"adam\", lr=1e-3)\n",
    "model_test.train(iterations=3000)\n",
    "model_test.compile(\"L-BFGS\")\n",
    "\n",
    "\n",
    "losshistory, train_state = model_test.train()\n",
    "dde.saveplot(losshistory, train_state, issave=True, isplot=True)"
   ]
  },
  {
   "cell_type": "code",
   "execution_count": 5,
   "id": "778cfa88",
   "metadata": {},
   "outputs": [
    {
     "data": {
      "text/plain": [
       "<matplotlib.legend.Legend at 0x2ac0e7a7ea40>"
      ]
     },
     "execution_count": 5,
     "metadata": {},
     "output_type": "execute_result"
    },
    {
     "data": {
      "image/png": "[encoded data removed]",
      "text/plain": [
       "<Figure size 432x288 with 1 Axes>"
      ]
     },
     "metadata": {
      "needs_background": "light"
     },
     "output_type": "display_data"
    }
   ],
   "source": [
    "X = np.linspace(xmin,xmax,1000).reshape(1000, 1)\n",
    "output_0 = model_test.predict(X)\n",
    "plt.plot(X,output_0,label=\"PINNs\")\n",
    "plt.ylabel(r\"$\\phi$\")\n",
    "plt.xlabel(\"x\")\n",
    "plt.legend()\n"
   ]
  },
  {
   "cell_type": "markdown",
   "id": "5ccca969-0209-45b0-8c1e-8e02b71eb8da",
   "metadata": {},
   "source": [
    "## The analytic solution to the poisson Eqn can be obtained using fft methods"
   ]
  },
  {
   "cell_type": "code",
   "execution_count": 6,
   "id": "63545eb4-0217-4687-abca-36b9b6cdfb8b",
   "metadata": {},
   "outputs": [],
   "source": [
    "def fft_solver(rho,Lx,N, dim = None):\n",
    "    \n",
    "    '''\n",
    "    A FFT solver that uses discrete Fast Fourier Transform to\n",
    "    solve the poisson Equation:\n",
    "    We apply the correction due to the finite difference grid of phi\n",
    "    \n",
    "    Input: 1. The source function: density in this case\n",
    "           2. # of grid point N\n",
    "           3. Domain Size in each dimension\n",
    "    \n",
    "    Output: the potential phi and the field g \n",
    "    \n",
    "    '''\n",
    "    nx = N\n",
    "    Lx = Lx\n",
    "    \n",
    "    dx = Lx / nx\n",
    "    \n",
    "    \n",
    "    # Calculate the Fourier modes of the gas density\n",
    "    rhohat = fft(rho)\n",
    "\n",
    "    # Calculate the wave numbers in x and y directions\n",
    "    kx = 2 * np.pi * np.fft.fftfreq(nx, dx)\n",
    "    #ky = 2 * np.pi * np.fft.fftfreq(ny, dy)\n",
    "\n",
    "    # Construct the Laplacian operator in Fourier space\n",
    "    kx2 = np.meshgrid(kx**2)\n",
    "    \n",
    "#     laplace = -(kx**2 )\n",
    "    ## Laplace with the correction refer to the notes\n",
    "    laplace = 2*(np.cos(kx*dx)-1)\n",
    "    \n",
    "    ## Inorder to avoid the inf we replace zero with a small number\n",
    "    laplace[laplace == 0] = 1e-16\n",
    "    \n",
    "    # Solve for the gravitationa potential in Fourier space\n",
    "    phihat = rhohat / laplace\n",
    "    \n",
    "    phihat = rhohat * dx**2/laplace\n",
    "#     window = signal.windows.tukey(len(phihat),alpha=0.25)\n",
    "\n",
    "\n",
    "    # Transform back to real space to obtain the solution\n",
    "#     phi = np.real(ifft(phihat*window))\n",
    "    phi = np.real(ifft(phihat))\n",
    "    \n",
    "    ## The field ,i.e., gravity \n",
    "    dphidx = np.gradient(phi, dx)\n",
    "\n",
    "    return phi,dphidx"
   ]
  },
  {
   "cell_type": "code",
   "execution_count": 7,
   "id": "69f700b0-6b65-4d7f-8ecb-eb61f788d5e9",
   "metadata": {},
   "outputs": [
    {
     "data": {
      "text/plain": [
       "<matplotlib.legend.Legend at 0x2ac1d7108310>"
      ]
     },
     "execution_count": 7,
     "metadata": {},
     "output_type": "execute_result"
    },
    {
     "data": {
      "image/png": "[encoded data removed]",
      "text/plain": [
       "<Figure size 432x288 with 1 Axes>"
      ]
     },
     "metadata": {
      "needs_background": "light"
     },
     "output_type": "display_data"
    }
   ],
   "source": [
    "from numpy.fft import fft, ifft\n",
    "from scipy import signal\n",
    "L = lam * num_of_waves   \n",
    "N = 1000\n",
    "x = np.linspace(0, L, N)\n",
    "rho = rho_1 * np.cos(2*np.pi*x/lam)\n",
    "\n",
    "phi, dpidx  = fft_solver(const*(rho),L,N, dim = None)\n",
    "plt.plot(x,phi,label=\"FFT\")\n",
    "plt.ylabel(r\"$\\phi$\")\n",
    "plt.xlabel(\"x\")\n",
    "plt.legend()"
   ]
  },
  {
   "cell_type": "code",
   "execution_count": null,
   "id": "e4c42a0b-fad3-499f-a657-e493177a79c2",
   "metadata": {},
   "outputs": [],
   "source": []
  }
 ],
 "metadata": {
  "kernelspec": {
   "display_name": "PINNS-envcedar",
   "language": "python",
   "name": "pinns-envcedar"
  },
  "language_info": {
   "codemirror_mode": {
    "name": "ipython",
    "version": 3
   },
   "file_extension": ".py",
   "mimetype": "text/x-python",
   "name": "python",
   "nbconvert_exporter": "python",
   "pygments_lexer": "ipython3",
   "version": "3.10.2"
  }
 },
 "nbformat": 4,
 "nbformat_minor": 5
}
